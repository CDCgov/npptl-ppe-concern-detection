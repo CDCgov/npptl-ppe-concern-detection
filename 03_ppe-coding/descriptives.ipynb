{
 "cells": [
  {
   "cell_type": "code",
   "execution_count": 1,
   "id": "12dc4203-39ab-4858-9c33-1d7fcbdc6024",
   "metadata": {},
   "outputs": [
    {
     "name": "stderr",
     "output_type": "stream",
     "text": [
      "── \u001b[1mAttaching packages\u001b[22m ─────────────────────────────────────── tidyverse 1.3.2 ──\n",
      "\u001b[32m✔\u001b[39m \u001b[34mggplot2\u001b[39m 3.3.6     \u001b[32m✔\u001b[39m \u001b[34mpurrr  \u001b[39m 0.3.4\n",
      "\u001b[32m✔\u001b[39m \u001b[34mtibble \u001b[39m 3.1.8     \u001b[32m✔\u001b[39m \u001b[34mdplyr  \u001b[39m 1.0.9\n",
      "\u001b[32m✔\u001b[39m \u001b[34mtidyr  \u001b[39m 1.2.0     \u001b[32m✔\u001b[39m \u001b[34mstringr\u001b[39m 1.4.1\n",
      "\u001b[32m✔\u001b[39m \u001b[34mreadr  \u001b[39m 2.1.2     \u001b[32m✔\u001b[39m \u001b[34mforcats\u001b[39m 0.5.2\n",
      "── \u001b[1mConflicts\u001b[22m ────────────────────────────────────────── tidyverse_conflicts() ──\n",
      "\u001b[31m✖\u001b[39m \u001b[34mdplyr\u001b[39m::\u001b[32mfilter()\u001b[39m masks \u001b[34mstats\u001b[39m::filter()\n",
      "\u001b[31m✖\u001b[39m \u001b[34mdplyr\u001b[39m::\u001b[32mlag()\u001b[39m    masks \u001b[34mstats\u001b[39m::lag()\n",
      "\n",
      "Attaching package: ‘lubridate’\n",
      "\n",
      "\n",
      "The following objects are masked from ‘package:base’:\n",
      "\n",
      "    date, intersect, setdiff, union\n",
      "\n",
      "\n"
     ]
    }
   ],
   "source": [
    "library(tidyverse)\n",
    "library(lubridate)\n",
    "source(\"../utils/helper_functions.r\")"
   ]
  },
  {
   "cell_type": "code",
   "execution_count": 2,
   "id": "3673e90e-c18e-4d4d-9156-c66a7e181afa",
   "metadata": {},
   "outputs": [],
   "source": [
    "ml = read.csv(\"ml_dataset.csv\")"
   ]
  },
  {
   "cell_type": "code",
   "execution_count": 3,
   "id": "abb42799-a9a2-4fbd-a807-379d8f16cd6a",
   "metadata": {},
   "outputs": [
    {
     "name": "stdout",
     "output_type": "stream",
     "text": [
      " [1] \"UPA.ID\"                   \"Hazard.Desc.Loc\"         \n",
      " [3] \"Hazard.Desc.Loc.lt\"       \"Availability\"            \n",
      " [5] \"NotWornE\"                 \"NotWornNE\"               \n",
      " [7] \"NotWornU\"                 \"WornIncorrectlyE\"        \n",
      " [9] \"WornIncorrectlyNE\"        \"WornIncorrectlyU\"        \n",
      "[11] \"DisinfectionMaintenance\"  \"SizeFit\"                 \n",
      "[13] \"Expired\"                  \"Counterfeit\"             \n",
      "[15] \"PPEDiscouragedProhibited\" \"Physiological\"           \n",
      "[17] \"Training\"                 \"RPP\"                     \n",
      "[19] \"EnforceUse\"               \"EnforceCorrectUse\"       \n",
      "[21] \"FitTest\"                  \"CrossContamination\"      \n"
     ]
    }
   ],
   "source": [
    "colnames(ml) %>% print"
   ]
  },
  {
   "cell_type": "code",
   "execution_count": 4,
   "id": "fd5d8bd6-026a-4f22-b049-92a49f44f4da",
   "metadata": {},
   "outputs": [],
   "source": [
    "labels = colnames(ml)[4:ncol(ml)]"
   ]
  },
  {
   "cell_type": "code",
   "execution_count": 5,
   "id": "4f68d5db-3abc-483d-b033-0c01f2bc28d0",
   "metadata": {},
   "outputs": [
    {
     "name": "stdout",
     "output_type": "stream",
     "text": [
      "[1] 19\n"
     ]
    }
   ],
   "source": [
    "length(labels) %>% print"
   ]
  },
  {
   "cell_type": "code",
   "execution_count": 6,
   "id": "9110d2ce-2e76-4a6d-af45-001653b61131",
   "metadata": {},
   "outputs": [
    {
     "data": {
      "text/plain": [
       ".\n",
       "   0    1    2    3    4    5    7 \n",
       " 208 2310  493   86   18    5    1 "
      ]
     },
     "metadata": {},
     "output_type": "display_data"
    }
   ],
   "source": [
    "ml[,labels] %>% rowSums() %>% table"
   ]
  },
  {
   "cell_type": "code",
   "execution_count": 7,
   "id": "6a97e265-4032-45c1-bff4-9824248bd31c",
   "metadata": {},
   "outputs": [
    {
     "name": "stdout",
     "output_type": "stream",
     "text": [
      "[1] 1.17206\n"
     ]
    }
   ],
   "source": [
    "ml[,labels] %>% rowSums() %>% mean %>% print"
   ]
  },
  {
   "cell_type": "code",
   "execution_count": 8,
   "id": "bbaced63-e79b-4f04-832d-5d19fa83a060",
   "metadata": {},
   "outputs": [
    {
     "name": "stdout",
     "output_type": "stream",
     "text": [
      "[1] 1\n"
     ]
    }
   ],
   "source": [
    "ml[,labels] %>% rowSums() %>% median %>% print"
   ]
  },
  {
   "cell_type": "code",
   "execution_count": 9,
   "id": "81dad395-d941-4171-b867-60d3150d67e2",
   "metadata": {},
   "outputs": [
    {
     "name": "stdout",
     "output_type": "stream",
     "text": [
      "[1] 0.9333547\n"
     ]
    }
   ],
   "source": [
    "mean(rowSums(ml[,labels])>0) %>% print"
   ]
  },
  {
   "cell_type": "code",
   "execution_count": 10,
   "id": "b42db1f3-75f4-497f-9fd4-00f444ec14f3",
   "metadata": {},
   "outputs": [
    {
     "data": {
      "text/html": [
       "<table class=\"dataframe\">\n",
       "<caption>A data.frame: 19 × 2</caption>\n",
       "<thead>\n",
       "\t<tr><th></th><th scope=col>n</th><th scope=col>freq</th></tr>\n",
       "\t<tr><th></th><th scope=col>&lt;dbl&gt;</th><th scope=col>&lt;dbl&gt;</th></tr>\n",
       "</thead>\n",
       "<tbody>\n",
       "\t<tr><th scope=row>Availability</th><td>1144</td><td>36.7</td></tr>\n",
       "\t<tr><th scope=row>EnforceUse</th><td>1052</td><td>33.7</td></tr>\n",
       "\t<tr><th scope=row>NotWornE</th><td> 705</td><td>22.6</td></tr>\n",
       "\t<tr><th scope=row>WornIncorrectlyE</th><td> 136</td><td> 4.4</td></tr>\n",
       "\t<tr><th scope=row>NotWornNE</th><td>  95</td><td> 3.0</td></tr>\n",
       "\t<tr><th scope=row>NotWornU</th><td>  79</td><td> 2.5</td></tr>\n",
       "\t<tr><th scope=row>EnforceCorrectUse</th><td>  69</td><td> 2.2</td></tr>\n",
       "\t<tr><th scope=row>CrossContamination</th><td>  66</td><td> 2.1</td></tr>\n",
       "\t<tr><th scope=row>PPEDiscouragedProhibited</th><td>  63</td><td> 2.0</td></tr>\n",
       "\t<tr><th scope=row>Training</th><td>  60</td><td> 1.9</td></tr>\n",
       "\t<tr><th scope=row>FitTest</th><td>  50</td><td> 1.6</td></tr>\n",
       "\t<tr><th scope=row>Physiological</th><td>  47</td><td> 1.5</td></tr>\n",
       "\t<tr><th scope=row>DisinfectionMaintenance</th><td>  34</td><td> 1.1</td></tr>\n",
       "\t<tr><th scope=row>SizeFit</th><td>  27</td><td> 0.9</td></tr>\n",
       "\t<tr><th scope=row>WornIncorrectlyNE</th><td>   9</td><td> 0.3</td></tr>\n",
       "\t<tr><th scope=row>WornIncorrectlyU</th><td>   8</td><td> 0.3</td></tr>\n",
       "\t<tr><th scope=row>RPP</th><td>   7</td><td> 0.2</td></tr>\n",
       "\t<tr><th scope=row>Counterfeit</th><td>   5</td><td> 0.2</td></tr>\n",
       "\t<tr><th scope=row>Expired</th><td>   2</td><td> 0.1</td></tr>\n",
       "</tbody>\n",
       "</table>\n"
      ],
      "text/latex": [
       "A data.frame: 19 × 2\n",
       "\\begin{tabular}{r|ll}\n",
       "  & n & freq\\\\\n",
       "  & <dbl> & <dbl>\\\\\n",
       "\\hline\n",
       "\tAvailability & 1144 & 36.7\\\\\n",
       "\tEnforceUse & 1052 & 33.7\\\\\n",
       "\tNotWornE &  705 & 22.6\\\\\n",
       "\tWornIncorrectlyE &  136 &  4.4\\\\\n",
       "\tNotWornNE &   95 &  3.0\\\\\n",
       "\tNotWornU &   79 &  2.5\\\\\n",
       "\tEnforceCorrectUse &   69 &  2.2\\\\\n",
       "\tCrossContamination &   66 &  2.1\\\\\n",
       "\tPPEDiscouragedProhibited &   63 &  2.0\\\\\n",
       "\tTraining &   60 &  1.9\\\\\n",
       "\tFitTest &   50 &  1.6\\\\\n",
       "\tPhysiological &   47 &  1.5\\\\\n",
       "\tDisinfectionMaintenance &   34 &  1.1\\\\\n",
       "\tSizeFit &   27 &  0.9\\\\\n",
       "\tWornIncorrectlyNE &    9 &  0.3\\\\\n",
       "\tWornIncorrectlyU &    8 &  0.3\\\\\n",
       "\tRPP &    7 &  0.2\\\\\n",
       "\tCounterfeit &    5 &  0.2\\\\\n",
       "\tExpired &    2 &  0.1\\\\\n",
       "\\end{tabular}\n"
      ],
      "text/markdown": [
       "\n",
       "A data.frame: 19 × 2\n",
       "\n",
       "| <!--/--> | n &lt;dbl&gt; | freq &lt;dbl&gt; |\n",
       "|---|---|---|\n",
       "| Availability | 1144 | 36.7 |\n",
       "| EnforceUse | 1052 | 33.7 |\n",
       "| NotWornE |  705 | 22.6 |\n",
       "| WornIncorrectlyE |  136 |  4.4 |\n",
       "| NotWornNE |   95 |  3.0 |\n",
       "| NotWornU |   79 |  2.5 |\n",
       "| EnforceCorrectUse |   69 |  2.2 |\n",
       "| CrossContamination |   66 |  2.1 |\n",
       "| PPEDiscouragedProhibited |   63 |  2.0 |\n",
       "| Training |   60 |  1.9 |\n",
       "| FitTest |   50 |  1.6 |\n",
       "| Physiological |   47 |  1.5 |\n",
       "| DisinfectionMaintenance |   34 |  1.1 |\n",
       "| SizeFit |   27 |  0.9 |\n",
       "| WornIncorrectlyNE |    9 |  0.3 |\n",
       "| WornIncorrectlyU |    8 |  0.3 |\n",
       "| RPP |    7 |  0.2 |\n",
       "| Counterfeit |    5 |  0.2 |\n",
       "| Expired |    2 |  0.1 |\n",
       "\n"
      ],
      "text/plain": [
       "                         n    freq\n",
       "Availability             1144 36.7\n",
       "EnforceUse               1052 33.7\n",
       "NotWornE                  705 22.6\n",
       "WornIncorrectlyE          136  4.4\n",
       "NotWornNE                  95  3.0\n",
       "NotWornU                   79  2.5\n",
       "EnforceCorrectUse          69  2.2\n",
       "CrossContamination         66  2.1\n",
       "PPEDiscouragedProhibited   63  2.0\n",
       "Training                   60  1.9\n",
       "FitTest                    50  1.6\n",
       "Physiological              47  1.5\n",
       "DisinfectionMaintenance    34  1.1\n",
       "SizeFit                    27  0.9\n",
       "WornIncorrectlyNE           9  0.3\n",
       "WornIncorrectlyU            8  0.3\n",
       "RPP                         7  0.2\n",
       "Counterfeit                 5  0.2\n",
       "Expired                     2  0.1"
      ]
     },
     "metadata": {},
     "output_type": "display_data"
    }
   ],
   "source": [
    "data.frame(n = colSums(ml[,labels])) %>% arrange(desc(n)) %>% mutate(freq = round(n/nrow(ml), 3)*100 )"
   ]
  },
  {
   "cell_type": "code",
   "execution_count": 11,
   "id": "9b1ae280-6269-4629-9e19-4bc3aa027691",
   "metadata": {},
   "outputs": [
    {
     "name": "stdout",
     "output_type": "stream",
     "text": [
      "[1] 3200   28\n"
     ]
    }
   ],
   "source": [
    "study_sample = read.csv(\"../02_sample-data/ppe_sample.csv\")\n",
    "print(dim(study_sample))"
   ]
  },
  {
   "cell_type": "code",
   "execution_count": 12,
   "id": "76db6a03-1b98-4a8c-96a8-51e667b6b14a",
   "metadata": {},
   "outputs": [
    {
     "name": "stdout",
     "output_type": "stream",
     "text": [
      "[1] 78710    28\n"
     ]
    }
   ],
   "source": [
    "osha = prep_osha_R(\"../01_clean-data/osha_clean_05.csv\")"
   ]
  },
  {
   "cell_type": "code",
   "execution_count": 13,
   "id": "9d574f79-4bc2-46ec-81ed-5d444f78d4f7",
   "metadata": {},
   "outputs": [
    {
     "name": "stdout",
     "output_type": "stream",
     "text": [
      "[1] 31018    28\n"
     ]
    }
   ],
   "source": [
    "osha_ppe = osha %>% filter(isPPE)\n",
    "print(dim(osha_ppe))"
   ]
  },
  {
   "cell_type": "code",
   "execution_count": 14,
   "id": "170c288d-2acd-4207-b760-0d7fc248a1aa",
   "metadata": {},
   "outputs": [
    {
     "data": {
      "text/html": [
       "<table class=\"dataframe\">\n",
       "<caption>A tibble: 6 × 4</caption>\n",
       "<thead>\n",
       "\t<tr><th scope=col>NAICS.Title.2</th><th scope=col>n</th><th scope=col>prop</th><th scope=col>cumulative.prop</th></tr>\n",
       "\t<tr><th scope=col>&lt;fct&gt;</th><th scope=col>&lt;int&gt;</th><th scope=col>&lt;dbl&gt;</th><th scope=col>&lt;dbl&gt;</th></tr>\n",
       "</thead>\n",
       "<tbody>\n",
       "\t<tr><td>Health Care and Social Assistance            </td><td>7072</td><td>0.22799665</td><td>0.2279966</td></tr>\n",
       "\t<tr><td>Retail Trade                                 </td><td>4490</td><td>0.14475466</td><td>0.3727513</td></tr>\n",
       "\t<tr><td>Manufacturing                                </td><td>4213</td><td>0.13582436</td><td>0.5085757</td></tr>\n",
       "\t<tr><td>Accommodation and Food Services              </td><td>3345</td><td>0.10784061</td><td>0.6164163</td></tr>\n",
       "\t<tr><td>Transportation and Warehousing               </td><td>2597</td><td>0.08372558</td><td>0.7001419</td></tr>\n",
       "\t<tr><td>Other Services (except Public Administration)</td><td>1210</td><td>0.03900961</td><td>0.7391515</td></tr>\n",
       "</tbody>\n",
       "</table>\n"
      ],
      "text/latex": [
       "A tibble: 6 × 4\n",
       "\\begin{tabular}{llll}\n",
       " NAICS.Title.2 & n & prop & cumulative.prop\\\\\n",
       " <fct> & <int> & <dbl> & <dbl>\\\\\n",
       "\\hline\n",
       "\t Health Care and Social Assistance             & 7072 & 0.22799665 & 0.2279966\\\\\n",
       "\t Retail Trade                                  & 4490 & 0.14475466 & 0.3727513\\\\\n",
       "\t Manufacturing                                 & 4213 & 0.13582436 & 0.5085757\\\\\n",
       "\t Accommodation and Food Services               & 3345 & 0.10784061 & 0.6164163\\\\\n",
       "\t Transportation and Warehousing                & 2597 & 0.08372558 & 0.7001419\\\\\n",
       "\t Other Services (except Public Administration) & 1210 & 0.03900961 & 0.7391515\\\\\n",
       "\\end{tabular}\n"
      ],
      "text/markdown": [
       "\n",
       "A tibble: 6 × 4\n",
       "\n",
       "| NAICS.Title.2 &lt;fct&gt; | n &lt;int&gt; | prop &lt;dbl&gt; | cumulative.prop &lt;dbl&gt; |\n",
       "|---|---|---|---|\n",
       "| Health Care and Social Assistance             | 7072 | 0.22799665 | 0.2279966 |\n",
       "| Retail Trade                                  | 4490 | 0.14475466 | 0.3727513 |\n",
       "| Manufacturing                                 | 4213 | 0.13582436 | 0.5085757 |\n",
       "| Accommodation and Food Services               | 3345 | 0.10784061 | 0.6164163 |\n",
       "| Transportation and Warehousing                | 2597 | 0.08372558 | 0.7001419 |\n",
       "| Other Services (except Public Administration) | 1210 | 0.03900961 | 0.7391515 |\n",
       "\n"
      ],
      "text/plain": [
       "  NAICS.Title.2                                 n    prop       cumulative.prop\n",
       "1 Health Care and Social Assistance             7072 0.22799665 0.2279966      \n",
       "2 Retail Trade                                  4490 0.14475466 0.3727513      \n",
       "3 Manufacturing                                 4213 0.13582436 0.5085757      \n",
       "4 Accommodation and Food Services               3345 0.10784061 0.6164163      \n",
       "5 Transportation and Warehousing                2597 0.08372558 0.7001419      \n",
       "6 Other Services (except Public Administration) 1210 0.03900961 0.7391515      "
      ]
     },
     "metadata": {},
     "output_type": "display_data"
    }
   ],
   "source": [
    "osha_ppe %>%\n",
    "group_by(NAICS.Title.2) %>%\n",
    "summarize(n = n()) %>%\n",
    "arrange(desc(n)) %>%\n",
    "mutate(prop = n/sum(n), cumulative.prop = cumsum(n)/sum(n)) %>%\n",
    "head()"
   ]
  },
  {
   "cell_type": "code",
   "execution_count": 15,
   "id": "201fab13-76f0-457a-9a21-b34b6bc15e36",
   "metadata": {},
   "outputs": [
    {
     "name": "stderr",
     "output_type": "stream",
     "text": [
      "IOPub data rate exceeded.\n",
      "The notebook server will temporarily stop sending output\n",
      "to the client in order to avoid crashing it.\n",
      "To change this limit, set the config variable\n",
      "`--NotebookApp.iopub_data_rate_limit`.\n",
      "\n",
      "Current values:\n",
      "NotebookApp.iopub_data_rate_limit=1000000.0 (bytes/sec)\n",
      "NotebookApp.rate_limit_window=3.0 (secs)\n",
      "\n"
     ]
    }
   ],
   "source": [
    "osha_ppe$Word.Count = sapply(osha_ppe$Hazard.Desc.Loc, function(x) length(unlist(str_split(x, ' ')))) %>% print"
   ]
  },
  {
   "cell_type": "code",
   "execution_count": 16,
   "id": "140a3e93-f931-4d26-bcf3-1b99a4086cc9",
   "metadata": {},
   "outputs": [
    {
     "name": "stdout",
     "output_type": "stream",
     "text": [
      "[1] 59.56171\n"
     ]
    }
   ],
   "source": [
    "mean(osha_ppe$Word.Count) %>% print"
   ]
  },
  {
   "cell_type": "code",
   "execution_count": 17,
   "id": "070a2542-d315-4208-9d7c-7c6e6588a4c4",
   "metadata": {},
   "outputs": [
    {
     "name": "stdout",
     "output_type": "stream",
     "text": [
      "[1] 44\n"
     ]
    }
   ],
   "source": [
    "median(osha_ppe$Word.Count) %>% print"
   ]
  },
  {
   "cell_type": "code",
   "execution_count": 18,
   "id": "69f83dca-23c5-400b-aaff-120a4beca8e6",
   "metadata": {},
   "outputs": [
    {
     "name": "stdout",
     "output_type": "stream",
     "text": [
      "[1]   3 744\n"
     ]
    }
   ],
   "source": [
    "range(osha_ppe$Word.Count) %>% print"
   ]
  }
 ],
 "metadata": {
  "kernelspec": {
   "display_name": "R",
   "language": "R",
   "name": "ir"
  },
  "language_info": {
   "codemirror_mode": "r",
   "file_extension": ".r",
   "mimetype": "text/x-r-source",
   "name": "R",
   "pygments_lexer": "r",
   "version": "4.1.3"
  }
 },
 "nbformat": 4,
 "nbformat_minor": 5
}
